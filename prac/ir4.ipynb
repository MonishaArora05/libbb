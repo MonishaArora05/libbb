{
 "cells": [
  {
   "cell_type": "code",
   "execution_count": 1,
   "id": "ec05398e-1ac6-4882-949c-8ec57279a067",
   "metadata": {},
   "outputs": [
    {
     "name": "stdout",
     "output_type": "stream",
     "text": [
      "PageRank: {'A': 0.37252644684091407, 'B': 0.19582422337929592, 'C': 0.39414932977979, 'D': 0.037500000000000006}\n"
     ]
    }
   ],
   "source": [
    "graph = {\n",
    "    'A': ['B', 'C'],\n",
    "    'B': ['C'],\n",
    "    'C': ['A'],\n",
    "    'D': ['C']\n",
    "}\n",
    "\n",
    "def pagerank(graph, max_iteration=100, d=0.85, tolerance=1.0e-6):\n",
    "    num_pages = len(graph)\n",
    "    page_rank = {page: 1 / num_pages for page in graph}\n",
    "\n",
    "    for _ in range(max_iteration):\n",
    "        new_page_rank = {}\n",
    "        for page in graph:\n",
    "            rank_sum = sum(page_rank[linking_page] / len(graph[linking_page]) \n",
    "                           for linking_page in graph if page in graph[linking_page])\n",
    "            new_page_rank[page] = (1 - d) / num_pages + d * rank_sum\n",
    "\n",
    "        if all(abs(new_page_rank[page] - page_rank[page]) < tolerance for page in page_rank):\n",
    "            break\n",
    "\n",
    "        page_rank = new_page_rank\n",
    "\n",
    "    return page_rank\n",
    "\n",
    "page_ranks = pagerank(graph)\n",
    "print(\"PageRank:\", page_ranks)\n"
   ]
  },
  {
   "cell_type": "markdown",
   "id": "4b817426-07be-4117-beb7-d99793b64344",
   "metadata": {},
   "source": [
    "\n",
    "\r\n",
    "1. **Graph Setup**: \r\n",
    "   - A dictionary `graph` represents the directed links between nodes (pages). Each key is a page, and its value is a list of pages it links to.\r\n",
    "\r\n",
    "2. **Function Definition (`pagerank`)**:\r\n",
    "   - The function `pagerank` calculates PageRank values for each page. It takes in the `graph`, `max_iteration` (maximum iterations for convergence), `d` (damping factor), and `tolerance` (threshold for convergence).\r\n",
    "\r\n",
    "3. **Initialization**:\r\n",
    "   - `num_pages`: Counts the number of pages (nodes) in the graph.\r\n",
    "   - `page_rank`: Initializes each page with an equal rank of \\(1 / \\text{num\\_pages}\\).\r\n",
    "\r\n",
    "4. **Iteration Loop**:\r\n",
    "   - A loop runs up to `max_iteration` times to update the PageRank values, aiming for convergence.\r\n",
    "\r\n",
    "5. **PageRank Calculation**:\r\n",
    "   - For each page, it calculates a new rank (`new_page_rank[page]`) by summing the ranks of pages that link to it. \r\n",
    "   - If a page `linking_page` links to `page`, its contribution to `page`'s rank is `page_rank[linking_page] / len(graph[linking_page])`.\r\n",
    "   - The final rank of each page is then adjusted with the damping factor: \r\n",
    "     \\[\r\n",
    "     \\text{new\\_page\\_rank[page]} = \\frac{1 - d}{\\text{num\\_pages}} + d \\times \\text{rank\\_sum}\r\n",
    "     \\]\r\n",
    "\r\n",
    "6. **Convergence Check**:\r\n",
    "   - After each iteration, the function checks if all PageRank values have converged (i.e., their changes are below `tolerance`). If so, it stops early.\r\n",
    "\r\n",
    "7. **Update for Next Iteration**:\r\n",
    "   - If convergence is not reached, the function updates `page_rank` with `new_page_rank` values and continues.\r\n",
    "\r\n",
    "8. **Return Final PageRanks**:\r\n",
    "   - After convergence or reaching `max_iteration`, the function returns the final PageRank values for each page.\r\n",
    "\r\n",
    "9. **Output**:\r\n",
    "   - `page_ranks = pagerank(graph)` runs the function on the input `graph`, and `print(\"PageRank:\", page_ranks)` displays the final PageRank scores."
   ]
  }
 ],
 "metadata": {
  "kernelspec": {
   "display_name": "Python 3 (ipykernel)",
   "language": "python",
   "name": "python3"
  },
  "language_info": {
   "codemirror_mode": {
    "name": "ipython",
    "version": 3
   },
   "file_extension": ".py",
   "mimetype": "text/x-python",
   "name": "python",
   "nbconvert_exporter": "python",
   "pygments_lexer": "ipython3",
   "version": "3.11.5"
  }
 },
 "nbformat": 4,
 "nbformat_minor": 5
}
